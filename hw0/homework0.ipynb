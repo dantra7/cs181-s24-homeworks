{
 "cells": [
  {
   "cell_type": "code",
   "execution_count": 3,
   "id": "db111e02",
   "metadata": {},
   "outputs": [
    {
     "ename": "ModuleNotFoundError",
     "evalue": "No module named 'numpy'",
     "output_type": "error",
     "traceback": [
      "\u001b[1;31m---------------------------------------------------------------------------\u001b[0m",
      "\u001b[1;31mModuleNotFoundError\u001b[0m                       Traceback (most recent call last)",
      "Cell \u001b[1;32mIn[3], line 2\u001b[0m\n\u001b[0;32m      1\u001b[0m \u001b[38;5;66;03m# standard imports\u001b[39;00m\n\u001b[1;32m----> 2\u001b[0m \u001b[38;5;28;01mimport\u001b[39;00m \u001b[38;5;21;01mnumpy\u001b[39;00m \u001b[38;5;28;01mas\u001b[39;00m \u001b[38;5;21;01mnp\u001b[39;00m\n\u001b[0;32m      3\u001b[0m \u001b[38;5;28;01mimport\u001b[39;00m \u001b[38;5;21;01mpandas\u001b[39;00m \u001b[38;5;28;01mas\u001b[39;00m \u001b[38;5;21;01mpd\u001b[39;00m\n\u001b[0;32m      4\u001b[0m \u001b[38;5;28;01mimport\u001b[39;00m \u001b[38;5;21;01mmatplotlib\u001b[39;00m\u001b[38;5;21;01m.\u001b[39;00m\u001b[38;5;21;01mpyplot\u001b[39;00m \u001b[38;5;28;01mas\u001b[39;00m \u001b[38;5;21;01mplt\u001b[39;00m\n",
      "\u001b[1;31mModuleNotFoundError\u001b[0m: No module named 'numpy'"
     ]
    }
   ],
   "source": [
    "# standard imports\n",
    "import numpy as np\n",
    "import pandas as pd\n",
    "import matplotlib.pyplot as plt\n",
    "import seaborn as sns\n",
    "from scipy.stats import multivariate_normal as mvn"
   ]
  },
  {
   "cell_type": "markdown",
   "id": "e7320304",
   "metadata": {},
   "source": [
    "## 2.1 Plot $y = -3x^2 + 72x + 70$."
   ]
  },
  {
   "cell_type": "code",
   "execution_count": 7,
   "id": "de64175e",
   "metadata": {},
   "outputs": [
    {
     "ename": "ModuleNotFoundError",
     "evalue": "No module named 'matplotlib'",
     "output_type": "error",
     "traceback": [
      "\u001b[1;31m---------------------------------------------------------------------------\u001b[0m",
      "\u001b[1;31mModuleNotFoundError\u001b[0m                       Traceback (most recent call last)",
      "Cell \u001b[1;32mIn[7], line 2\u001b[0m\n\u001b[0;32m      1\u001b[0m \u001b[38;5;66;03m# Your code here\u001b[39;00m\n\u001b[1;32m----> 2\u001b[0m \u001b[38;5;28;01mimport\u001b[39;00m \u001b[38;5;21;01mmatplotlib\u001b[39;00m\u001b[38;5;21;01m.\u001b[39;00m\u001b[38;5;21;01mpyplot\u001b[39;00m \u001b[38;5;28;01mas\u001b[39;00m \u001b[38;5;21;01mplt\u001b[39;00m\n\u001b[0;32m      4\u001b[0m x \u001b[38;5;241m=\u001b[39m [\u001b[38;5;241m9\u001b[39m, \u001b[38;5;241m10\u001b[39m, \u001b[38;5;241m11\u001b[39m, \u001b[38;5;241m12\u001b[39m, \u001b[38;5;241m13\u001b[39m, \u001b[38;5;241m14\u001b[39m, \u001b[38;5;241m15\u001b[39m] \n\u001b[0;32m      5\u001b[0m y \u001b[38;5;241m=\u001b[39m [\u001b[38;5;241m475\u001b[39m, \u001b[38;5;241m490\u001b[39m, \u001b[38;5;241m499\u001b[39m, \u001b[38;5;241m502\u001b[39m, \u001b[38;5;241m499\u001b[39m, \u001b[38;5;241m490\u001b[39m, \u001b[38;5;241m475\u001b[39m]\n",
      "\u001b[1;31mModuleNotFoundError\u001b[0m: No module named 'matplotlib'"
     ]
    }
   ],
   "source": [
    "# Your code here\n",
    "import matplotlib.pyplot as plt\n",
    "\n",
    "x = [9, 10, 11, 12, 13, 14, 15] \n",
    "y = [475, 490, 499, 502, 499, 490, 475]\n",
    "\n",
    "plt.plot(x,y)\n",
    "\n",
    "plt.show()"
   ]
  },
  {
   "cell_type": "markdown",
   "id": "bfe7bd0a",
   "metadata": {},
   "source": [
    "## 2.3 Plot $f(x_1, x_2)$."
   ]
  },
  {
   "cell_type": "code",
   "execution_count": null,
   "id": "5130b447",
   "metadata": {},
   "outputs": [],
   "source": [
    "# Your code here"
   ]
  },
  {
   "cell_type": "markdown",
   "id": "73293532",
   "metadata": {},
   "source": [
    "## 3.1(a) Draw from joint distribution of $(S, W)$ and generate bivariate histogram."
   ]
  },
  {
   "cell_type": "code",
   "execution_count": null,
   "id": "f8add966",
   "metadata": {},
   "outputs": [],
   "source": [
    "# Your code here"
   ]
  },
  {
   "cell_type": "markdown",
   "id": "be0744ef",
   "metadata": {},
   "source": [
    "## 3.2 Plot the joint PDFs at $S=118$ and $S=122$, varying $W$."
   ]
  },
  {
   "cell_type": "code",
   "execution_count": null,
   "id": "06df8bb3",
   "metadata": {},
   "outputs": [],
   "source": [
    "# Your code here"
   ]
  },
  {
   "cell_type": "markdown",
   "id": "0889f71d",
   "metadata": {},
   "source": [
    "## 3.5(a) Function to simulate draws from $T^{*}$."
   ]
  },
  {
   "cell_type": "code",
   "execution_count": null,
   "id": "1483559c",
   "metadata": {},
   "outputs": [],
   "source": [
    "# Your code here"
   ]
  },
  {
   "cell_type": "markdown",
   "id": "13646fb6",
   "metadata": {},
   "source": [
    "## 3.5(b) Empirically estimate the mean and standard deviation of $T^{*}$ by generating $1000$ samples."
   ]
  },
  {
   "cell_type": "code",
   "execution_count": null,
   "id": "fdd1f260",
   "metadata": {},
   "outputs": [],
   "source": [
    "# Your code here"
   ]
  }
 ],
 "metadata": {
  "kernelspec": {
   "display_name": "Python 3",
   "language": "python",
   "name": "python3"
  },
  "language_info": {
   "codemirror_mode": {
    "name": "ipython",
    "version": 3
   },
   "file_extension": ".py",
   "mimetype": "text/x-python",
   "name": "python",
   "nbconvert_exporter": "python",
   "pygments_lexer": "ipython3",
   "version": "3.12.0"
  },
  "vscode": {
   "interpreter": {
    "hash": "a0a5145e6c304e2a9afaf5b930a2955b950bd4b81fe94f7c42930f43f42762eb"
   }
  }
 },
 "nbformat": 4,
 "nbformat_minor": 5
}
